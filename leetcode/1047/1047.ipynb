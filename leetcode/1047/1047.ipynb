{
  "nbformat": 4,
  "nbformat_minor": 0,
  "metadata": {
    "colab": {
      "name": "1047.ipynb",
      "provenance": [],
      "collapsed_sections": []
    },
    "kernelspec": {
      "name": "python3",
      "display_name": "Python 3"
    },
    "language_info": {
      "name": "python"
    }
  },
  "cells": [
    {
      "cell_type": "code",
      "metadata": {
        "id": "NaFWOidfvRkr"
      },
      "source": [
        "class Solution:\n",
        "    def removeDuplicates(self, s: str) -> str:\n",
        "        \n",
        "        stack = []\n",
        "        \n",
        "        for i in range(len(s)):\n",
        "            stack.append(s[i])\n",
        "            if len(stack) >= 2 and stack[-1] == stack[-2]:\n",
        "                stack.pop()\n",
        "                stack.pop()\n",
        "        \n",
        "        return \"\".join(stack)\n",
        "                \n",
        "                \n",
        "                    "
      ],
      "execution_count": null,
      "outputs": []
    }
  ]
}