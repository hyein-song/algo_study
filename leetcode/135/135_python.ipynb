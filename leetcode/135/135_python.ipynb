{
  "nbformat": 4,
  "nbformat_minor": 0,
  "metadata": {
    "colab": {
      "name": "135_python.ipynb",
      "provenance": [],
      "collapsed_sections": []
    },
    "kernelspec": {
      "name": "python3",
      "display_name": "Python 3"
    },
    "language_info": {
      "name": "python"
    }
  },
  "cells": [
    {
      "cell_type": "code",
      "metadata": {
        "id": "GC7smghaYFE8"
      },
      "source": [
        "class Solution:\n",
        "    def candy(self, ratings: List[int]) -> int:\n",
        "        \n",
        "        N = len(ratings)\n",
        "        ratings.append(2 * (10**4))\n",
        "        candy = [1]* (N+1)\n",
        "        first = 0\n",
        "        cnt = 0\n",
        "        \n",
        "        for i in range(N):\n",
        "            if ratings[i] > ratings[i+1]:\n",
        "                cnt +=1 \n",
        "            \n",
        "            if ratings[i] <= ratings[i+1]:\n",
        "                if cnt >=1:            \n",
        "                    if candy[first] > cnt:\n",
        "                        for j in range(first+1,i+1):\n",
        "                            candy[j] = cnt\n",
        "                            cnt -= 1\n",
        "                    else: # candy[first] <= cnt\n",
        "                        for j in range(first,i+1):\n",
        "                            candy[j] = cnt+1\n",
        "                            cnt -= 1\n",
        "                    cnt = 0        \n",
        "                if ratings[i] < ratings[i+1]:\n",
        "                    cnt = 0\n",
        "                    candy[i+1] = candy[i] + 1\n",
        "                    first = i+1\n",
        "\n",
        "                elif ratings[i] == ratings[i+1]:\n",
        "                    first = i+1\n",
        "                    cnt = 0\n",
        "\n",
        "        r = sum(candy[:-1])\n",
        "        return r\n",
        "                        \n",
        "        "
      ],
      "execution_count": null,
      "outputs": []
    }
  ]
}