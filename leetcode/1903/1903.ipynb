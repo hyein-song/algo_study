{
  "nbformat": 4,
  "nbformat_minor": 0,
  "metadata": {
    "colab": {
      "name": "1903.ipynb",
      "provenance": [],
      "collapsed_sections": []
    },
    "kernelspec": {
      "name": "python3",
      "display_name": "Python 3"
    },
    "language_info": {
      "name": "python"
    }
  },
  "cells": [
    {
      "cell_type": "code",
      "metadata": {
        "id": "_PBVrffdv_V2"
      },
      "source": [
        "class Solution:\n",
        "    def largestOddNumber(self, num: str) -> str:\n",
        "        for i in range(len(num)-1,-1,-1):\n",
        "            if int(num[i]) % 2 == 1 :\n",
        "                return num[:i+1]\n",
        "        return \"\"    "
      ],
      "execution_count": null,
      "outputs": []
    }
  ]
}