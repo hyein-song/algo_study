{
  "nbformat": 4,
  "nbformat_minor": 0,
  "metadata": {
    "colab": {
      "name": "576.ipynb",
      "provenance": [],
      "collapsed_sections": []
    },
    "kernelspec": {
      "name": "python3",
      "display_name": "Python 3"
    },
    "language_info": {
      "name": "python"
    }
  },
  "cells": [
    {
      "cell_type": "code",
      "metadata": {
        "id": "wXXcqW-ovvSZ"
      },
      "source": [
        "\n",
        "class Solution:\n",
        "        \n",
        "    def findPaths(self, m: int, n: int, maxMove: int, startRow: int, startColumn: int) -> int:\n",
        "        \n",
        "        canout = [[[-1 for _ in range(n)] for _ in range(m)]for _ in range(maxMove)]\n",
        "        mod = 10**9 + 7\n",
        "\n",
        "        def check(move, newRow, newCol):\n",
        "            if newRow < 0 or newRow >=m or newCol < 0 or newCol >=n:\n",
        "                return 1\n",
        "            \n",
        "            if move == 0:\n",
        "                return 0\n",
        "            \n",
        "            if canout[move-1][newRow][newCol] != -1:\n",
        "                return canout[move-1][newRow][newCol] % mod\n",
        "            \n",
        "            canout[move-1][newRow][newCol] = 0\n",
        "            canout[move-1][newRow][newCol] = check(move-1,newRow+1,newCol) + \\\n",
        "                                             check(move-1,newRow-1,newCol) + \\\n",
        "                                             check(move-1,newRow,newCol+1) + \\\n",
        "                                             check(move-1,newRow,newCol-1)\n",
        "            \n",
        "            return canout[move-1][newRow][newCol] % mod\n",
        "        \n",
        "        return check(maxMove,startRow,startColumn) % mod\n",
        "        \n",
        "        \n",
        "            "
      ],
      "execution_count": null,
      "outputs": []
    }
  ]
}