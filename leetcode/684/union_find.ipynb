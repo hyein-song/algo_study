{
  "nbformat": 4,
  "nbformat_minor": 0,
  "metadata": {
    "colab": {
      "name": "union_find.ipynb",
      "provenance": [],
      "collapsed_sections": []
    },
    "kernelspec": {
      "name": "python3",
      "display_name": "Python 3"
    },
    "language_info": {
      "name": "python"
    }
  },
  "cells": [
    {
      "cell_type": "code",
      "metadata": {
        "id": "yQOzqTfQdymQ"
      },
      "source": [
        "class Solution:\n",
        "    def findRedundantConnection(self, edges: List[List[int]]) -> List[int]:\n",
        "        \n",
        "        parents = [0]\n",
        "        result = []\n",
        "        \n",
        "        # 초기화\n",
        "        for i in range(1,len(edges)+1):\n",
        "            parents.append(i)\n",
        "            \n",
        "        \n",
        "        def find_parents(parents,x):\n",
        "            if parents[x]==x:\n",
        "                return x\n",
        "            \n",
        "            parents[x] = find_parents(parents,parents[x])\n",
        "            return parents[x]\n",
        "        \n",
        "        def union_parents(parents,x,y):\n",
        "            x = find_parents(parents,x)\n",
        "            y = find_parents(parents,y)\n",
        "            \n",
        "            if x < y:\n",
        "                parents[y] = x\n",
        "            else:\n",
        "                parents[x] = y\n",
        "            \n",
        "        \n",
        "        for i in edges:\n",
        "            if find_parents(parents, i[0]) == find_parents(parents, i[1]):\n",
        "                return i\n",
        "            else:\n",
        "                union_parents(parents, i[0], i[1])\n",
        "             "
      ],
      "execution_count": null,
      "outputs": []
    }
  ]
}