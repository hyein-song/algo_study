{
  "nbformat": 4,
  "nbformat_minor": 0,
  "metadata": {
    "colab": {
      "name": "Reverse Linked List II.ipynb",
      "provenance": [],
      "collapsed_sections": [],
      "authorship_tag": "ABX9TyPoQw4ozHIluKFVasmQBKje"
    },
    "kernelspec": {
      "name": "python3",
      "display_name": "Python 3"
    },
    "language_info": {
      "name": "python"
    }
  },
  "cells": [
    {
      "cell_type": "code",
      "metadata": {
        "id": "D4fVwa_3s_JC"
      },
      "source": [
        "class Solution:\n",
        "    def reverseBetween(self, head: ListNode, left: int, right: int) -> ListNode:\n",
        "        if left == right:\n",
        "            return head\n",
        "        \n",
        "        else:\n",
        "            root = ListNode(None)\n",
        "            root.next = head\n",
        "            \n",
        "            start = root\n",
        "            \n",
        "            for _ in range(left-1):\n",
        "                start = start.next\n",
        "                \n",
        "            current = start.next \n",
        "\n",
        "            for i in range(right-left):\n",
        "                tmp = start.next\n",
        "                start.next = current.next\n",
        "                current.next = current.next.next\n",
        "                start.next.next = tmp\n",
        "                \n",
        "\n",
        "        return root.next"
      ],
      "execution_count": null,
      "outputs": []
    }
  ]
}